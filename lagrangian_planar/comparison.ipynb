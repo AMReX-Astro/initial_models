{
 "cells": [
  {
   "cell_type": "code",
   "execution_count": 1,
   "id": "de61fd44-564f-46c9-baa7-10981f3b6d03",
   "metadata": {},
   "outputs": [],
   "source": [
    "import numpy as np\n",
    "import matplotlib.pyplot as plt"
   ]
  },
  {
   "cell_type": "code",
   "execution_count": 2,
   "id": "3daa710d-558b-422b-b2ac-4f6b2cf1fa28",
   "metadata": {},
   "outputs": [],
   "source": [
    "#Alex Model\n",
    "\n",
    "name1 = 'glasner_enriched1600.hse'\n",
    "name2 = 'glasner_T51600.hse'\n",
    "name3 = 'glasner_T7_1e+04cm.hse'\n",
    "name4 = 'glasner_T91600.hse'\n",
    "\n",
    "data_file = name3\n",
    "\n",
    "finput = open(data_file, 'r')\n",
    "\n",
    "for _ in range(22):\n",
    "    finput.readline()\n",
    "\n",
    "positions = []\n",
    "densities = []\n",
    "temperatures = []\n",
    "pressures = []\n",
    "\n",
    "for line in finput:\n",
    "    stats = line.strip().split()\n",
    "    r = stats.pop(0)\n",
    "    dens = stats.pop(0)\n",
    "    temp = stats.pop(0)\n",
    "    pres = stats.pop(0)\n",
    "    \n",
    "    positions.append(float(r))\n",
    "    densities.append(float(dens))\n",
    "    temperatures.append(float(temp))\n",
    "    pressures.append(float(pres))\n",
    "    \n",
    "positions = np.array(positions)\n",
    "densities = np.array(densities)\n",
    "temperatures = np.array(temperatures)\n",
    "pressures = np.array(pressures)\n"
   ]
  },
  {
   "cell_type": "code",
   "execution_count": 3,
   "id": "3c06a3ae-59af-4006-ae06-4fd09309e233",
   "metadata": {},
   "outputs": [],
   "source": [
    "#Amy's model\n",
    "\n",
    "name1 = 'glasner_enhanced.raw'\n",
    "name2 = 'glasner_T5.raw'\n",
    "name3 = 'glasner_T7.raw'\n",
    "name4 = 'glasner_T9.raw'\n",
    "\n",
    "data_file = name4\n",
    "\n",
    "finput = open(data_file, 'r')\n",
    "\n",
    "for _ in range(21):\n",
    "    finput.readline()\n",
    "\n",
    "positions1 = []\n",
    "densities1 = []\n",
    "temperatures1 = []\n",
    "pressures1 = []\n",
    "\n",
    "for line in finput:\n",
    "    stats1 = line.strip().split()\n",
    "    r = stats1.pop(0)\n",
    "    stats1.pop(0)\n",
    "    dens = stats1.pop(0)\n",
    "    temp = stats1.pop(0)\n",
    "    pres = stats1.pop(0)\n",
    "    \n",
    "    positions1.append(float(r))\n",
    "    densities1.append(float(dens))\n",
    "    temperatures1.append(float(temp))\n",
    "    pressures1.append(float(pres))\n",
    "\n",
    "shift1 = 3.910368E+08\n",
    "shift2 = 4.534081e8\n",
    "shift3 = 4.534384e8\n",
    "shift4 = 4.534482e8\n",
    "\n",
    "shift = shift4\n",
    "\n",
    "positions1 = np.array(positions1) - shift*np.ones_like(positions1)\n",
    "densities1 = np.array(densities1)\n",
    "temperatures1 = np.array(temperatures1)\n",
    "pressures1 = np.array(pressures1)\n"
   ]
  },
  {
   "cell_type": "code",
   "execution_count": 4,
   "id": "9a42ca21",
   "metadata": {},
   "outputs": [
    {
     "name": "stdout",
     "output_type": "stream",
     "text": [
      "1528.75190104\n",
      "-6.86e+08\n"
     ]
    }
   ],
   "source": [
    "print(densities[1599])\n",
    "\n",
    "i = 70\n",
    "g = (pressures1[i]-pressures1[i-1])/(positions1[i] - positions1[i-1])/(0.5*(densities1[i] + densities1[i-1]) )\n",
    "print('{:.2e}'.format(g))"
   ]
  },
  {
   "cell_type": "code",
   "execution_count": 5,
   "id": "c1fb7674-3224-4a5f-bd6f-9e62d2e9d50a",
   "metadata": {},
   "outputs": [
    {
     "data": {
      "image/png": "[encoded data removed]",
      "text/plain": [
       "<Figure size 432x288 with 1 Axes>"
      ]
     },
     "metadata": {
      "needs_background": "light"
     },
     "output_type": "display_data"
    }
   ],
   "source": [
    "fig = plt.subplot(111)\n",
    "fig.plot(positions, densities, c='r', label='Alex')\n",
    "fig.plot(positions1, densities1, c='b', label='Amy')\n",
    "fig.legend()\n",
    "#fig.set_xscale('log')\n",
    "fig.set_yscale('log')\n",
    "fig.set_xlabel(r'$x\\,[\\mathrm{cm}]$')\n",
    "fig.set_ylabel(r'$\\rho\\,[\\mathrm{g \\,cm^{-3}}]$')\n",
    "\n",
    "\n",
    "\n",
    "plt.show()"
   ]
  },
  {
   "cell_type": "code",
   "execution_count": 6,
   "id": "00a02187",
   "metadata": {},
   "outputs": [
    {
     "data": {
      "image/png": "[encoded data removed]",
      "text/plain": [
       "<Figure size 432x288 with 1 Axes>"
      ]
     },
     "metadata": {
      "needs_background": "light"
     },
     "output_type": "display_data"
    }
   ],
   "source": [
    "fig = plt.subplot(111)\n",
    "fig.plot(positions, temperatures, c='r', label='Alex')\n",
    "fig.plot(positions1, temperatures1, c='b', label='Amy')\n",
    "fig.legend()\n",
    "#fig.set_xscale('log')\n",
    "fig.set_yscale('log')\n",
    "fig.set_xlabel(r'$x\\,[\\mathrm{cm}]$')\n",
    "fig.set_ylabel(r'$T\\,[\\mathrm{K}]$')\n",
    "plt.show()"
   ]
  },
  {
   "cell_type": "code",
   "execution_count": 7,
   "id": "cc182861-ad84-4397-959e-2b2c7eda77c1",
   "metadata": {},
   "outputs": [
    {
     "name": "stdout",
     "output_type": "stream",
     "text": [
      "-7.06e+08\n"
     ]
    }
   ],
   "source": [
    "i = 50\n",
    "g = (pressures1[i]-pressures1[i-1])/(positions1[i] - positions1[i-1])/(0.5*(densities1[i] + densities1[i-1]) )\n",
    "print('{:.2e}'.format(g))"
   ]
  },
  {
   "cell_type": "code",
   "execution_count": null,
   "id": "1b11ba89-d8ac-4113-a7b4-be086436cf88",
   "metadata": {},
   "outputs": [],
   "source": []
  }
 ],
 "metadata": {
  "interpreter": {
   "hash": "2e75868d82d230c8f6111d85879a4d734b403021a57419431eb8da153537e410"
  },
  "kernelspec": {
   "display_name": "NERSC Python",
   "language": "python",
   "name": "python3"
  },
  "language_info": {
   "codemirror_mode": {
    "name": "ipython",
    "version": 3
   },
   "file_extension": ".py",
   "mimetype": "text/x-python",
   "name": "python",
   "nbconvert_exporter": "python",
   "pygments_lexer": "ipython3",
   "version": "3.9.7"
  }
 },
 "nbformat": 4,
 "nbformat_minor": 5
}
