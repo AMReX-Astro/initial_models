{
 "cells": [
  {
   "cell_type": "code",
   "execution_count": 60,
   "id": "de61fd44-564f-46c9-baa7-10981f3b6d03",
   "metadata": {},
   "outputs": [],
   "source": [
    "import numpy as np\n",
    "import matplotlib.pyplot as plt"
   ]
  },
  {
   "cell_type": "code",
   "execution_count": 61,
   "id": "3daa710d-558b-422b-b2ac-4f6b2cf1fa28",
   "metadata": {},
   "outputs": [],
   "source": [
    "#Alex Model\n",
    "\n",
    "data_file = 'model_hse1600'\n",
    "\n",
    "finput = open(data_file, 'r')\n",
    "\n",
    "for _ in range(22):\n",
    "    finput.readline()\n",
    "\n",
    "positions = []\n",
    "densities = []\n",
    "temperatures = []\n",
    "pressures = []\n",
    "\n",
    "for line in finput:\n",
    "    stats = line.strip().split()\n",
    "    r = stats.pop(0)\n",
    "    dens = stats.pop(0)\n",
    "    temp = stats.pop(0)\n",
    "    pres = stats.pop(0)\n",
    "    \n",
    "    positions.append(float(r))\n",
    "    densities.append(float(dens))\n",
    "    temperatures.append(float(temp))\n",
    "    pressures.append(float(pres))\n",
    "    \n",
    "positions = np.array(positions)\n",
    "densities = np.array(densities)\n",
    "temperatures = np.array(temperatures)\n",
    "pressures = np.array(pressures)\n"
   ]
  },
  {
   "cell_type": "code",
   "execution_count": 62,
   "id": "3c06a3ae-59af-4006-ae06-4fd09309e233",
   "metadata": {},
   "outputs": [],
   "source": [
    "#Amy's model\n",
    "\n",
    "data_file = 'glasner_T5.raw'\n",
    "\n",
    "finput = open(data_file, 'r')\n",
    "\n",
    "for _ in range(21):\n",
    "    finput.readline()\n",
    "\n",
    "positions1 = []\n",
    "densities1 = []\n",
    "temperatures1 = []\n",
    "pressures1 = []\n",
    "\n",
    "for line in finput:\n",
    "    stats1 = line.strip().split()\n",
    "    r = stats1.pop(0)\n",
    "    stats1.pop(0)\n",
    "    dens = stats1.pop(0)\n",
    "    temp = stats1.pop(0)\n",
    "    pres = stats1.pop(0)\n",
    "    \n",
    "    positions1.append(float(r))\n",
    "    densities1.append(float(dens))\n",
    "    temperatures1.append(float(temp))\n",
    "    pressures1.append(float(pres))\n",
    "\n",
    "shift = 4.534081e+08\n",
    "positions1 = np.array(positions1) - shift*np.ones_like(positions1)\n",
    "densities1 = np.array(densities1)\n",
    "temperatures1 = np.array(temperatures1)\n",
    "pressures1 = np.array(pressures1)\n"
   ]
  },
  {
   "cell_type": "code",
   "execution_count": 63,
   "id": "c1fb7674-3224-4a5f-bd6f-9e62d2e9d50a",
   "metadata": {},
   "outputs": [
    {
     "data": {
      "image/png": "[encoded data removed]",
      "text/plain": [
       "<Figure size 432x288 with 1 Axes>"
      ]
     },
     "metadata": {
      "needs_background": "light"
     },
     "output_type": "display_data"
    }
   ],
   "source": [
    "fig = plt.subplot(111)\n",
    "fig.plot(positions, densities, c='r', label='Alex')\n",
    "fig.plot(positions1, densities1, c='b', label='Amy')\n",
    "fig.legend()\n",
    "#fig.set_xscale('log')\n",
    "fig.set_yscale('log')\n",
    "fig.set_xlabel(r'$x\\,[\\mathrm{cm}]$')\n",
    "fig.set_ylabel(r'$\\rho\\,[\\mathrm{g \\,cm^{-3}}]$')\n",
    "\n",
    "plt.show()"
   ]
  },
  {
   "cell_type": "code",
   "execution_count": null,
   "id": "cc182861-ad84-4397-959e-2b2c7eda77c1",
   "metadata": {},
   "outputs": [],
   "source": []
  },
  {
   "cell_type": "code",
   "execution_count": null,
   "id": "1b11ba89-d8ac-4113-a7b4-be086436cf88",
   "metadata": {},
   "outputs": [],
   "source": []
  }
 ],
 "metadata": {
  "kernelspec": {
   "display_name": "Python 3 (ipykernel)",
   "language": "python",
   "name": "python3"
  },
  "language_info": {
   "codemirror_mode": {
    "name": "ipython",
    "version": 3
   },
   "file_extension": ".py",
   "mimetype": "text/x-python",
   "name": "python",
   "nbconvert_exporter": "python",
   "pygments_lexer": "ipython3",
   "version": "3.9.7"
  }
 },
 "nbformat": 4,
 "nbformat_minor": 5
}
